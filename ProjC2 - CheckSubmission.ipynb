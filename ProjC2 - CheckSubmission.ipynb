{
 "cells": [
  {
   "cell_type": "markdown",
   "id": "504bb1c7",
   "metadata": {
    "nbgrader": {
     "grade": false,
     "locked": true,
     "solution": false
    }
   },
   "source": [
    "# Checking Format for Predictions\n",
    "\n",
    "Each command below checks that the predictions for the corresonding testset have the correct format."
   ]
  },
  {
   "cell_type": "code",
   "execution_count": 1,
   "id": "8a8941c2",
   "metadata": {},
   "outputs": [
    {
     "name": "stdout",
     "output_type": "stream",
     "text": [
      "/Users/fahimsharifkhaja/Desktop/Neural Networks/comp/spr25-gait2-Mudhathir-main 4/.venv/bin/python: No module named pytest\n"
     ]
    }
   ],
   "source": [
    "!python -m pytest fnc_testset1_test.py"
   ]
  },
  {
   "cell_type": "code",
   "execution_count": 3,
   "id": "d2cd10c7",
   "metadata": {},
   "outputs": [
    {
     "name": "stdout",
     "output_type": "stream",
     "text": [
      "\u001b[1m============================= test session starts ==============================\u001b[0m\n",
      "platform darwin -- Python 3.13.3, pytest-8.3.5, pluggy-1.5.0\n",
      "rootdir: /Users/fahimsharifkhaja/Desktop/Neural Networks/comp/spr25-gait2-zero-hack\n",
      "collected 2 items                                                              \u001b[0m\u001b[1m\n",
      "\n",
      "fnc_testset2_test.py \u001b[32m.\u001b[0m\u001b[32m.\u001b[0m\u001b[32m                                                  [100%]\u001b[0m\n",
      "\n",
      "\u001b[32m============================== \u001b[32m\u001b[1m2 passed\u001b[0m\u001b[32m in 0.80s\u001b[0m\u001b[32m ===============================\u001b[0m\n"
     ]
    }
   ],
   "source": [
    "!python -m pytest fnc_testset2_test.py"
   ]
  },
  {
   "cell_type": "code",
   "execution_count": null,
   "id": "478500e3",
   "metadata": {},
   "outputs": [],
   "source": []
  }
 ],
 "metadata": {
  "kernelspec": {
   "display_name": ".venv",
   "language": "python",
   "name": "python3"
  },
  "language_info": {
   "codemirror_mode": {
    "name": "ipython",
    "version": 3
   },
   "file_extension": ".py",
   "mimetype": "text/x-python",
   "name": "python",
   "nbconvert_exporter": "python",
   "pygments_lexer": "ipython3",
   "version": "3.13.3"
  }
 },
 "nbformat": 4,
 "nbformat_minor": 5
}
